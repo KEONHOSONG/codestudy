{
 "cells": [
  {
   "cell_type": "code",
   "execution_count": null,
   "metadata": {},
   "outputs": [],
   "source": [
    "# n = int(input())\n",
    "# # T = []\n",
    "# # P = []\n",
    "# for _ in range(n):\n",
    "#     t,p=map(int,input().split())\n",
    "#     T.append(t)\n",
    "#     P.append(p)\n",
    "# 3 10\n",
    "# 5 20\n",
    "# 1 10\n",
    "# 1 20\n",
    "# 2 15\n",
    "# 4 40\n",
    "# 2 200"
   ]
  },
  {
   "cell_type": "code",
   "execution_count": 19,
   "metadata": {},
   "outputs": [],
   "source": [
    "import numpy as np"
   ]
  },
  {
   "cell_type": "code",
   "execution_count": 54,
   "metadata": {},
   "outputs": [
    {
     "name": "stdout",
     "output_type": "stream",
     "text": [
      "7\n",
      "3 10\n",
      "5 20\n",
      "1 10\n",
      "1 20\n",
      "2 15\n",
      "4 40\n",
      "2 200\n"
     ]
    }
   ],
   "source": [
    "n=int(input())\n",
    "t = []\n",
    "p = []\n",
    "for _ in range(n):\n",
    "    T,P=map(int,input().split())\n",
    "    t.append(T)\n",
    "    p.append(P)"
   ]
  },
  {
   "cell_type": "code",
   "execution_count": 57,
   "metadata": {},
   "outputs": [
    {
     "name": "stdout",
     "output_type": "stream",
     "text": [
      "45\n"
     ]
    }
   ],
   "source": [
    "dp = [0 for i in range(n)]\n",
    "if t[n-1]==1:\n",
    "    dp[n-1]=p[n-1]\n",
    "\n",
    "for i in range(n-2,-1,-1):\n",
    "    if t[i]+i==n:\n",
    "        dp[i]=max(p[i],dp[i+1])\n",
    "    elif t[i]+i<n:\n",
    "        dp[i] = max([p[i] + dp[t[i]+i], dp[i+1]])\n",
    "    elif t[i]+i>n:\n",
    "        dp[i] = dp[i+1]\n",
    "print(dp[0])"
   ]
  },
  {
   "cell_type": "code",
   "execution_count": null,
   "metadata": {},
   "outputs": [],
   "source": []
  },
  {
   "cell_type": "code",
   "execution_count": null,
   "metadata": {},
   "outputs": [],
   "source": []
  }
 ],
 "metadata": {
  "kernelspec": {
   "display_name": "Python 3",
   "language": "python",
   "name": "python3"
  },
  "language_info": {
   "codemirror_mode": {
    "name": "ipython",
    "version": 3
   },
   "file_extension": ".py",
   "mimetype": "text/x-python",
   "name": "python",
   "nbconvert_exporter": "python",
   "pygments_lexer": "ipython3",
   "version": "3.7.6"
  }
 },
 "nbformat": 4,
 "nbformat_minor": 4
}
