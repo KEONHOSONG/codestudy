{
 "cells": [
  {
   "cell_type": "code",
   "execution_count": 50,
   "metadata": {},
   "outputs": [],
   "source": [
    "# 7\n",
    "# 0110100\n",
    "# 0110101\n",
    "# 1110101\n",
    "# 0000111\n",
    "# 0100000\n",
    "# 0111110\n",
    "# 0111000"
   ]
  },
  {
   "cell_type": "code",
   "execution_count": 10,
   "metadata": {},
   "outputs": [
    {
     "name": "stdout",
     "output_type": "stream",
     "text": [
      "7\n",
      "0110100\n",
      "0110101\n",
      "1110101\n",
      "0000111\n",
      "0100000\n",
      "0111110\n",
      "0111000\n"
     ]
    }
   ],
   "source": [
    "n=int(input())\n",
    "a=[]\n",
    "for i in range(n):\n",
    "    A=[int(i) for i in input()]\n",
    "    a.append(A)"
   ]
  },
  {
   "cell_type": "code",
   "execution_count": 69,
   "metadata": {},
   "outputs": [],
   "source": [
    "b=[[0 for _ in range(n)]for _ in range(n)] #방문시 0 -> 1\n",
    "cnt=0 #단지수\n",
    "s=0 #세대 수\n",
    "se=[]"
   ]
  },
  {
   "cell_type": "code",
   "execution_count": 70,
   "metadata": {},
   "outputs": [],
   "source": [
    "def search(i,j):\n",
    "    global s\n",
    "    global cnt\n",
    "    global k\n",
    "    s=0\n",
    "    for k in range(n-j-k):\n",
    "        if a[i][j+k]==1:\n",
    "            s=s+1\n",
    "            b[i][j+k]=1\n",
    "    for k in range(n-j-k):\n",
    "        if a[i][j-k]==1:\n",
    "            s=s+1\n",
    "            b[i][j-k]=1\n",
    "    for k in range(n-j-k):\n",
    "        if a[i-k][j]==1:\n",
    "            s=s+1\n",
    "            b[i-k][j]=1\n",
    "    for k in range(n-j-k):\n",
    "        if a[i+k][j]==1:\n",
    "            s=s+1\n",
    "            b[i+k][j]=1\n",
    "    se.insert(cnt,s)        \n",
    "    cnt=cnt+1"
   ]
  },
  {
   "cell_type": "code",
   "execution_count": 71,
   "metadata": {},
   "outputs": [
    {
     "name": "stdout",
     "output_type": "stream",
     "text": [
      "6\n",
      "10\n",
      "11\n",
      "8\n",
      "8\n",
      "9\n",
      "7\n"
     ]
    }
   ],
   "source": [
    "for i in range(n):\n",
    "    for j in range(n):\n",
    "        if b[i][j]==1:\n",
    "            b[i][j]=1\n",
    "            continue\n",
    "        else:\n",
    "            if a[i][j]==0:\n",
    "                b[i][j]=1\n",
    "                continue\n",
    "            else:\n",
    "                search(i,j)\n",
    "\n",
    "print(cnt)\n",
    "for i in range(len(se)):\n",
    "    print(se[i])"
   ]
  },
  {
   "cell_type": "code",
   "execution_count": 74,
   "metadata": {},
   "outputs": [
    {
     "name": "stdout",
     "output_type": "stream",
     "text": [
      "7\n",
      "0110100\n",
      "0110101\n",
      "1110101\n",
      "0000111\n",
      "0100000\n",
      "0111110\n",
      "0111000\n",
      "6\n",
      "10\n",
      "11\n",
      "8\n",
      "8\n",
      "9\n",
      "7\n"
     ]
    }
   ],
   "source": [
    "n=int(input())\n",
    "a=[]\n",
    "for i in range(n):\n",
    "    A=[int(i) for i in input()]\n",
    "    a.append(A)\n",
    "    \n",
    "b=[[0 for _ in range(n)]for _ in range(n)] #방문시 0 -> 1\n",
    "cnt=0 #단지수\n",
    "s=0 #세대 수\n",
    "se=[]\n",
    "\n",
    "def search(i,j):\n",
    "    global s\n",
    "    global cnt\n",
    "    global k\n",
    "    s=0\n",
    "    for k in range(n-j-k):\n",
    "        if a[i][j+k]==1:\n",
    "            s=s+1\n",
    "            b[i][j+k]=1\n",
    "    for k in range(n-j-k):\n",
    "        if a[i][j-k]==1:\n",
    "            s=s+1\n",
    "            b[i][j-k]=1\n",
    "    for k in range(n-j-k):\n",
    "        if a[i-k][j]==1:\n",
    "            s=s+1\n",
    "            b[i-k][j]=1\n",
    "    for k in range(n-j-k):\n",
    "        if a[i+k][j]==1:\n",
    "            s=s+1\n",
    "            b[i+k][j]=1\n",
    "    se.insert(cnt,s) \n",
    "    cnt=cnt+1\n",
    "    \n",
    "for i in range(n):\n",
    "    for j in range(n):\n",
    "        if b[i][j]==1:\n",
    "            b[i][j]=1\n",
    "            continue\n",
    "        else:\n",
    "            if a[i][j]==0:\n",
    "                b[i][j]=1\n",
    "                continue\n",
    "            else:\n",
    "                search(i,j)\n",
    "\n",
    "print(cnt)\n",
    "for i in range(len(se)):\n",
    "    print(se[i])"
   ]
  },
  {
   "cell_type": "code",
   "execution_count": null,
   "metadata": {},
   "outputs": [],
   "source": [
    "# 7\n",
    "# 0110100\n",
    "# 0110101\n",
    "# 1110101\n",
    "# 0000111\n",
    "# 0100000\n",
    "# 0111110\n",
    "# 0111000"
   ]
  }
 ],
 "metadata": {
  "kernelspec": {
   "display_name": "Python 3",
   "language": "python",
   "name": "python3"
  },
  "language_info": {
   "codemirror_mode": {
    "name": "ipython",
    "version": 3
   },
   "file_extension": ".py",
   "mimetype": "text/x-python",
   "name": "python",
   "nbconvert_exporter": "python",
   "pygments_lexer": "ipython3",
   "version": "3.7.6"
  }
 },
 "nbformat": 4,
 "nbformat_minor": 4
}
